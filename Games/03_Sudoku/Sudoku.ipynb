{
 "cells": [
  {
   "cell_type": "markdown",
   "id": "7983e14d-cbc5-4442-a3cb-11437b514e99",
   "metadata": {},
   "source": [
    "##  Sudoku - sample possible"
   ]
  },
  {
   "cell_type": "code",
   "execution_count": 19,
   "id": "d468f5c6-a734-48eb-ac85-ddaf8331f1de",
   "metadata": {},
   "outputs": [],
   "source": [
    "grid = [[0,7,0,0,2,0,0,4,6],\n",
    "        [0,6,0,0,0,0,8,9,0],\n",
    "        [2,0,0,8,0,0,7,1,5],\n",
    "        [0,8,4,0,9,7,0,0,0],\n",
    "        [7,1,0,0,0,0,0,5,9],\n",
    "        [0,0,0,1,3,0,4,8,0],\n",
    "        [6,9,7,0,0,2,0,0,8],\n",
    "        [0,5,8,0,0,0,0,6,0],\n",
    "        [4,3,0,0,8,0,0,7,0]]"
   ]
  },
  {
   "cell_type": "code",
   "execution_count": 20,
   "id": "427946f1-0342-4926-8386-51ce1b2ff641",
   "metadata": {},
   "outputs": [],
   "source": [
    "def possible(y,x,n):\n",
    "    global grid\n",
    "    for i in range(0,9):\n",
    "        if grid[y][i] == n:\n",
    "            return False\n",
    "    for i in range(0,9):\n",
    "        if grid[i][x] == n:\n",
    "            return False\n",
    "    x0 = (x//3)*3\n",
    "    y0 = (y//3)*3\n",
    "    for i in range(0,3):\n",
    "        for j in range(0,3):\n",
    "            if grid[y0+i][x0+i] == n:\n",
    "                return False\n",
    "    return True"
   ]
  },
  {
   "cell_type": "code",
   "execution_count": 3,
   "id": "52e40ff3-4012-4e61-b57d-4556cf51c770",
   "metadata": {},
   "outputs": [
    {
     "data": {
      "text/plain": [
       "True"
      ]
     },
     "execution_count": 3,
     "metadata": {},
     "output_type": "execute_result"
    }
   ],
   "source": [
    "possible(8,1,2)"
   ]
  },
  {
   "cell_type": "code",
   "execution_count": 6,
   "id": "14a712e3-caa6-40b4-96da-f552af1884d2",
   "metadata": {},
   "outputs": [
    {
     "name": "stdout",
     "output_type": "stream",
     "text": [
      "9\n"
     ]
    }
   ],
   "source": [
    "x = 9\n",
    "x0 = (x//3)*3\n",
    "print(x0)"
   ]
  },
  {
   "cell_type": "code",
   "execution_count": 7,
   "id": "c0825c1a-d8bd-4894-b79e-ee330bf8ed64",
   "metadata": {},
   "outputs": [],
   "source": [
    "def possible2(y,x,n):\n",
    "    global grid\n",
    "    for i in range(0,9):\n",
    "        if grid[y][i] == n:\n",
    "            print(\"y: \", y)\n",
    "            print(\"i: \",i)\n",
    "            print(\"False1\")\n",
    "            return False\n",
    "    for i in range(0,9):\n",
    "        if grid[i][x] == n:\n",
    "            print(i)\n",
    "            print(\"x: \", x)\n",
    "            print(\"False2\")\n",
    "            return False\n",
    "    x0 = (x//3)*3\n",
    "    y0 = (y//3)*3\n",
    "    for i in range(0,3):\n",
    "        for j in range(0,3):\n",
    "            if grid[y0+i][x0+i] == n:\n",
    "                print(\"False3\")\n",
    "                return False\n",
    "    print(\"True\")\n",
    "    return True"
   ]
  },
  {
   "cell_type": "code",
   "execution_count": 8,
   "id": "5fb23e56-5c50-43a7-a544-9119fbf7741c",
   "metadata": {},
   "outputs": [
    {
     "name": "stdout",
     "output_type": "stream",
     "text": [
      "y:  4\n",
      "i:  1\n",
      "False1\n"
     ]
    },
    {
     "data": {
      "text/plain": [
       "False"
      ]
     },
     "execution_count": 8,
     "metadata": {},
     "output_type": "execute_result"
    }
   ],
   "source": [
    "possible2(4,4,1)"
   ]
  },
  {
   "cell_type": "markdown",
   "id": "e00f06cd-d562-4194-a4aa-7b842d3f9d6e",
   "metadata": {},
   "source": [
    "# The Real game"
   ]
  },
  {
   "cell_type": "code",
   "execution_count": 21,
   "id": "ba7ebcc9-5257-4425-97e2-f0a8160bbd8c",
   "metadata": {},
   "outputs": [],
   "source": [
    "import numpy as np"
   ]
  },
  {
   "cell_type": "code",
   "execution_count": 22,
   "id": "a5f6a9d0-243b-4f7a-bcdd-06ee243369a4",
   "metadata": {},
   "outputs": [],
   "source": [
    "grid = [[5,3,0,0,7,0,0,0,0],\n",
    "        [6,0,0,1,9,5,0,0,0],\n",
    "        [0,8,9,0,0,0,0,6,0],\n",
    "        [8,0,0,0,6,0,0,0,3],\n",
    "        [4,0,0,8,0,3,0,0,1],\n",
    "        [7,0,0,0,2,0,0,0,6],\n",
    "        [0,6,0,0,0,0,2,0,8],\n",
    "        [0,0,0,4,1,9,0,0,5],\n",
    "        [0,0,0,0,8,0,0,7,9]]"
   ]
  },
  {
   "cell_type": "code",
   "execution_count": 23,
   "id": "0d22491d-4720-46a6-bb45-deb133136585",
   "metadata": {},
   "outputs": [
    {
     "name": "stdout",
     "output_type": "stream",
     "text": [
      "[[5, 3, 0, 0, 7, 0, 0, 0, 0], [6, 0, 0, 1, 9, 5, 0, 0, 0], [0, 8, 9, 0, 0, 0, 0, 6, 0], [8, 0, 0, 0, 6, 0, 0, 0, 3], [4, 0, 0, 8, 0, 3, 0, 0, 1], [7, 0, 0, 0, 2, 0, 0, 0, 6], [0, 6, 0, 0, 0, 0, 2, 0, 8], [0, 0, 0, 4, 1, 9, 0, 0, 5], [0, 0, 0, 0, 8, 0, 0, 7, 9]]\n"
     ]
    }
   ],
   "source": [
    "print(grid)"
   ]
  },
  {
   "cell_type": "code",
   "execution_count": 24,
   "id": "60bef90a-3313-46d0-8aa3-381e9c95e21d",
   "metadata": {},
   "outputs": [
    {
     "name": "stdout",
     "output_type": "stream",
     "text": [
      "[[5 3 0 0 7 0 0 0 0]\n",
      " [6 0 0 1 9 5 0 0 0]\n",
      " [0 8 9 0 0 0 0 6 0]\n",
      " [8 0 0 0 6 0 0 0 3]\n",
      " [4 0 0 8 0 3 0 0 1]\n",
      " [7 0 0 0 2 0 0 0 6]\n",
      " [0 6 0 0 0 0 2 0 8]\n",
      " [0 0 0 4 1 9 0 0 5]\n",
      " [0 0 0 0 8 0 0 7 9]]\n"
     ]
    }
   ],
   "source": [
    "print(np.matrix(grid))"
   ]
  },
  {
   "cell_type": "code",
   "execution_count": 25,
   "id": "1cdd8029-4321-4abc-ba16-b5bd6cb62650",
   "metadata": {},
   "outputs": [],
   "source": [
    "# check for position\n",
    "# check for each square (3x3)\n",
    "\n",
    "def possible(y,x,n):\n",
    "    global grid\n",
    "    for i in range(0,9):\n",
    "        if grid[y][i] == n:\n",
    "            return False\n",
    "    for i in range(0,9):\n",
    "        if grid[i][x] == n:\n",
    "            return False\n",
    "    y0 = (y//3)*3\n",
    "    x0 = (x//3)*3\n",
    "    for i in range(0,3):\n",
    "        for j in range(0,3):\n",
    "            if grid[y0+i][x0+j] == n:\n",
    "                return False\n",
    "    return True"
   ]
  },
  {
   "cell_type": "code",
   "execution_count": 15,
   "id": "f784bfac-d89d-49a1-9b85-536cb8bae4a6",
   "metadata": {},
   "outputs": [
    {
     "data": {
      "text/plain": [
       "False"
      ]
     },
     "execution_count": 15,
     "metadata": {},
     "output_type": "execute_result"
    }
   ],
   "source": [
    "possible(4,4,3)"
   ]
  },
  {
   "cell_type": "code",
   "execution_count": 16,
   "id": "56db03dc-775e-472b-88f0-0031e86fa918",
   "metadata": {},
   "outputs": [
    {
     "data": {
      "text/plain": [
       "True"
      ]
     },
     "execution_count": 16,
     "metadata": {},
     "output_type": "execute_result"
    }
   ],
   "source": [
    "possible(4,4,5)"
   ]
  },
  {
   "cell_type": "code",
   "execution_count": 26,
   "id": "86ecc382-c487-4fdd-9bb5-604d533a0cf9",
   "metadata": {},
   "outputs": [],
   "source": [
    "def solver():\n",
    "    global grid\n",
    "    for y in range(0,9):\n",
    "        for x in range(0,9):\n",
    "            if grid[y][x] == 0:\n",
    "                for i in range(1,10):\n",
    "                    if possible(y,x,i):\n",
    "                        grid[y][x] = i\n",
    "                        solver()\n",
    "                        #backtracking\n",
    "                        grid[y][x] = 0\n",
    "                return\n",
    "    print(np.matrix(grid))\n",
    "    input(\"Find another solution:\")"
   ]
  },
  {
   "cell_type": "code",
   "execution_count": 27,
   "id": "ec04c050-f5c3-48e4-b8f8-b7d6e4bcfaba",
   "metadata": {},
   "outputs": [
    {
     "name": "stdout",
     "output_type": "stream",
     "text": [
      "[[5 3 2 6 7 8 1 9 4]\n",
      " [6 4 7 1 9 5 3 8 2]\n",
      " [1 8 9 3 4 2 5 6 7]\n",
      " [8 2 1 7 6 4 9 5 3]\n",
      " [4 9 6 8 5 3 7 2 1]\n",
      " [7 5 3 9 2 1 8 4 6]\n",
      " [9 6 4 5 3 7 2 1 8]\n",
      " [2 7 8 4 1 9 6 3 5]\n",
      " [3 1 5 2 8 6 4 7 9]]\n"
     ]
    },
    {
     "name": "stdin",
     "output_type": "stream",
     "text": [
      "Find another solution: \n"
     ]
    },
    {
     "name": "stdout",
     "output_type": "stream",
     "text": [
      "[[5 3 2 6 7 8 1 9 4]\n",
      " [6 4 7 1 9 5 3 8 2]\n",
      " [1 8 9 3 4 2 5 6 7]\n",
      " [8 2 5 7 6 1 9 4 3]\n",
      " [4 9 6 8 5 3 7 2 1]\n",
      " [7 1 3 9 2 4 8 5 6]\n",
      " [9 6 4 5 3 7 2 1 8]\n",
      " [2 7 8 4 1 9 6 3 5]\n",
      " [3 5 1 2 8 6 4 7 9]]\n"
     ]
    },
    {
     "name": "stdin",
     "output_type": "stream",
     "text": [
      "Find another solution: \n"
     ]
    },
    {
     "name": "stdout",
     "output_type": "stream",
     "text": [
      "[[5 3 2 6 7 8 9 1 4]\n",
      " [6 4 7 1 9 5 3 8 2]\n",
      " [1 8 9 3 4 2 5 6 7]\n",
      " [8 2 5 7 6 1 4 9 3]\n",
      " [4 9 6 8 5 3 7 2 1]\n",
      " [7 1 3 9 2 4 8 5 6]\n",
      " [9 6 1 5 3 7 2 4 8]\n",
      " [2 7 8 4 1 9 6 3 5]\n",
      " [3 5 4 2 8 6 1 7 9]]\n"
     ]
    },
    {
     "name": "stdin",
     "output_type": "stream",
     "text": [
      "Find another solution: \n"
     ]
    },
    {
     "name": "stdout",
     "output_type": "stream",
     "text": [
      "[[5 3 2 6 7 8 9 1 4]\n",
      " [6 4 7 1 9 5 3 8 2]\n",
      " [1 8 9 3 4 2 5 6 7]\n",
      " [8 9 5 7 6 1 4 2 3]\n",
      " [4 2 6 8 5 3 7 9 1]\n",
      " [7 1 3 9 2 4 8 5 6]\n",
      " [9 6 1 5 3 7 2 4 8]\n",
      " [2 7 8 4 1 9 6 3 5]\n",
      " [3 5 4 2 8 6 1 7 9]]\n"
     ]
    },
    {
     "name": "stdin",
     "output_type": "stream",
     "text": [
      "Find another solution: \n"
     ]
    },
    {
     "name": "stdout",
     "output_type": "stream",
     "text": [
      "[[5 3 4 6 7 8 9 1 2]\n",
      " [6 2 7 1 9 5 3 8 4]\n",
      " [1 8 9 3 4 2 5 6 7]\n",
      " [8 5 2 7 6 1 4 9 3]\n",
      " [4 9 6 8 5 3 7 2 1]\n",
      " [7 1 3 9 2 4 8 5 6]\n",
      " [9 6 1 5 3 7 2 4 8]\n",
      " [2 7 8 4 1 9 6 3 5]\n",
      " [3 4 5 2 8 6 1 7 9]]\n"
     ]
    },
    {
     "name": "stdin",
     "output_type": "stream",
     "text": [
      "Find another solution: \n"
     ]
    }
   ],
   "source": [
    "solver()"
   ]
  },
  {
   "cell_type": "code",
   "execution_count": null,
   "id": "bd57c41e-47ae-49ea-ba0a-07b7920ebe29",
   "metadata": {},
   "outputs": [],
   "source": []
  }
 ],
 "metadata": {
  "kernelspec": {
   "display_name": "Python 3 (ipykernel)",
   "language": "python",
   "name": "python3"
  },
  "language_info": {
   "codemirror_mode": {
    "name": "ipython",
    "version": 3
   },
   "file_extension": ".py",
   "mimetype": "text/x-python",
   "name": "python",
   "nbconvert_exporter": "python",
   "pygments_lexer": "ipython3",
   "version": "3.9.7"
  }
 },
 "nbformat": 4,
 "nbformat_minor": 5
}
