{
 "cells": [
  {
   "cell_type": "markdown",
   "id": "58615b27",
   "metadata": {},
   "source": [
    "#### Sudoku"
   ]
  },
  {
   "cell_type": "code",
   "execution_count": 1,
   "id": "78b16bfe",
   "metadata": {},
   "outputs": [],
   "source": [
    "import numpy as np"
   ]
  },
  {
   "cell_type": "code",
   "execution_count": 2,
   "id": "3b2cb699",
   "metadata": {},
   "outputs": [],
   "source": [
    "grid = [[5,3,0,0,7,0,0,0,0],\n",
    "        [6,0,0,1,9,5,0,0,0],\n",
    "        [0,8,9,0,0,0,0,6,0],\n",
    "        [8,0,0,0,6,0,0,0,3],\n",
    "        [4,0,0,8,0,3,0,0,1],\n",
    "        [7,0,0,0,2,0,0,0,6],\n",
    "        [0,6,0,0,0,0,2,0,8],\n",
    "        [0,0,0,4,1,9,0,0,5],\n",
    "        [0,0,0,0,8,0,0,7,9]]"
   ]
  },
  {
   "cell_type": "code",
   "execution_count": 3,
   "id": "c8c2d196",
   "metadata": {},
   "outputs": [
    {
     "name": "stdout",
     "output_type": "stream",
     "text": [
      "[[5, 3, 0, 0, 7, 0, 0, 0, 0], [6, 0, 0, 1, 9, 5, 0, 0, 0], [0, 8, 9, 0, 0, 0, 0, 6, 0], [8, 0, 0, 0, 6, 0, 0, 0, 3], [4, 0, 0, 8, 0, 3, 0, 0, 1], [7, 0, 0, 0, 2, 0, 0, 0, 6], [0, 6, 0, 0, 0, 0, 2, 0, 8], [0, 0, 0, 4, 1, 9, 0, 0, 5], [0, 0, 0, 0, 8, 0, 0, 7, 9]]\n"
     ]
    }
   ],
   "source": [
    "print(grid)"
   ]
  },
  {
   "cell_type": "code",
   "execution_count": 4,
   "id": "36351d52",
   "metadata": {},
   "outputs": [
    {
     "name": "stdout",
     "output_type": "stream",
     "text": [
      "[[5 3 0 0 7 0 0 0 0]\n",
      " [6 0 0 1 9 5 0 0 0]\n",
      " [0 8 9 0 0 0 0 6 0]\n",
      " [8 0 0 0 6 0 0 0 3]\n",
      " [4 0 0 8 0 3 0 0 1]\n",
      " [7 0 0 0 2 0 0 0 6]\n",
      " [0 6 0 0 0 0 2 0 8]\n",
      " [0 0 0 4 1 9 0 0 5]\n",
      " [0 0 0 0 8 0 0 7 9]]\n"
     ]
    }
   ],
   "source": [
    "print(np.matrix(grid))"
   ]
  },
  {
   "cell_type": "code",
   "execution_count": 5,
   "id": "55478c52",
   "metadata": {},
   "outputs": [],
   "source": [
    "# check for position\n",
    "# check for each square (3x3)\n",
    "\n",
    "def possible(y,x,n):\n",
    "    global grid\n",
    "    for i in range(0,9):\n",
    "        if grid[y][i] == n:\n",
    "            return False\n",
    "    for i in range(0,9):\n",
    "        if grid[i][x] == n:\n",
    "            return False\n",
    "    y0 = (y//3)*3\n",
    "    x0 = (x//3)*3\n",
    "    for i in range(0,3):\n",
    "        for j in range(0,3):\n",
    "            if grid[y0+i][x0+j] == n:\n",
    "                return False\n",
    "    return True"
   ]
  },
  {
   "cell_type": "code",
   "execution_count": 7,
   "id": "75d9cc9d",
   "metadata": {},
   "outputs": [
    {
     "data": {
      "text/plain": [
       "False"
      ]
     },
     "execution_count": 7,
     "metadata": {},
     "output_type": "execute_result"
    }
   ],
   "source": [
    "possible(4,4,3)"
   ]
  },
  {
   "cell_type": "code",
   "execution_count": 8,
   "id": "68bce4a3",
   "metadata": {},
   "outputs": [
    {
     "data": {
      "text/plain": [
       "True"
      ]
     },
     "execution_count": 8,
     "metadata": {},
     "output_type": "execute_result"
    }
   ],
   "source": [
    "possible(4,4,5)"
   ]
  },
  {
   "cell_type": "code",
   "execution_count": 9,
   "id": "5de01e73",
   "metadata": {},
   "outputs": [],
   "source": [
    "def solver():\n",
    "    global grid\n",
    "    for y in range(0,9):\n",
    "        for x in range(0,9):\n",
    "            if grid[y][x] == 0:\n",
    "                for i in range(1,10):\n",
    "                    if possible(y,x,i):\n",
    "                        grid[y][x] = i\n",
    "                        solver()\n",
    "                        #backtracking\n",
    "                        grid[y][x] = 0\n",
    "                return\n",
    "    print(np.matrix(grid))\n",
    "    input(\"Find another solution:\")"
   ]
  },
  {
   "cell_type": "code",
   "execution_count": 10,
   "id": "8e04f8b3",
   "metadata": {},
   "outputs": [
    {
     "name": "stdout",
     "output_type": "stream",
     "text": [
      "[[5 3 2 6 7 8 1 9 4]\n",
      " [6 4 7 1 9 5 3 8 2]\n",
      " [1 8 9 3 4 2 5 6 7]\n",
      " [8 2 1 7 6 4 9 5 3]\n",
      " [4 9 6 8 5 3 7 2 1]\n",
      " [7 5 3 9 2 1 8 4 6]\n",
      " [9 6 4 5 3 7 2 1 8]\n",
      " [2 7 8 4 1 9 6 3 5]\n",
      " [3 1 5 2 8 6 4 7 9]]\n",
      "Find another solution:no\n",
      "[[5 3 2 6 7 8 1 9 4]\n",
      " [6 4 7 1 9 5 3 8 2]\n",
      " [1 8 9 3 4 2 5 6 7]\n",
      " [8 2 5 7 6 1 9 4 3]\n",
      " [4 9 6 8 5 3 7 2 1]\n",
      " [7 1 3 9 2 4 8 5 6]\n",
      " [9 6 4 5 3 7 2 1 8]\n",
      " [2 7 8 4 1 9 6 3 5]\n",
      " [3 5 1 2 8 6 4 7 9]]\n",
      "Find another solution:\n",
      "[[5 3 2 6 7 8 9 1 4]\n",
      " [6 4 7 1 9 5 3 8 2]\n",
      " [1 8 9 3 4 2 5 6 7]\n",
      " [8 2 5 7 6 1 4 9 3]\n",
      " [4 9 6 8 5 3 7 2 1]\n",
      " [7 1 3 9 2 4 8 5 6]\n",
      " [9 6 1 5 3 7 2 4 8]\n",
      " [2 7 8 4 1 9 6 3 5]\n",
      " [3 5 4 2 8 6 1 7 9]]\n",
      "Find another solution:\n",
      "[[5 3 2 6 7 8 9 1 4]\n",
      " [6 4 7 1 9 5 3 8 2]\n",
      " [1 8 9 3 4 2 5 6 7]\n",
      " [8 9 5 7 6 1 4 2 3]\n",
      " [4 2 6 8 5 3 7 9 1]\n",
      " [7 1 3 9 2 4 8 5 6]\n",
      " [9 6 1 5 3 7 2 4 8]\n",
      " [2 7 8 4 1 9 6 3 5]\n",
      " [3 5 4 2 8 6 1 7 9]]\n",
      "Find another solution:\n",
      "[[5 3 4 6 7 8 9 1 2]\n",
      " [6 2 7 1 9 5 3 8 4]\n",
      " [1 8 9 3 4 2 5 6 7]\n",
      " [8 5 2 7 6 1 4 9 3]\n",
      " [4 9 6 8 5 3 7 2 1]\n",
      " [7 1 3 9 2 4 8 5 6]\n",
      " [9 6 1 5 3 7 2 4 8]\n",
      " [2 7 8 4 1 9 6 3 5]\n",
      " [3 4 5 2 8 6 1 7 9]]\n",
      "Find another solution:\n"
     ]
    }
   ],
   "source": [
    "solver()"
   ]
  },
  {
   "cell_type": "code",
   "execution_count": null,
   "id": "3c72f63c",
   "metadata": {},
   "outputs": [],
   "source": [
    "grid = [[12,11,23],[23,34,35],[51,55,56]]"
   ]
  },
  {
   "cell_type": "code",
   "execution_count": null,
   "id": "e6ced898",
   "metadata": {},
   "outputs": [],
   "source": [
    "print(np.matrix(grid))"
   ]
  },
  {
   "cell_type": "code",
   "execution_count": null,
   "id": "57938699",
   "metadata": {},
   "outputs": [],
   "source": [
    "for i in range(0,3):\n",
    "    for j in range(0,3):\n",
    "        print(grid[i][j])"
   ]
  },
  {
   "cell_type": "code",
   "execution_count": null,
   "id": "13c54f2a",
   "metadata": {},
   "outputs": [],
   "source": [
    "for i in range(0,3):\n",
    "    for j in range(0,3):\n",
    "        if grid[i][j] == 23:\n",
    "            print(\"true\", i, j)\n",
    "        print(\"not exists\", i, j)"
   ]
  },
  {
   "cell_type": "code",
   "execution_count": 20,
   "id": "6b39f44d",
   "metadata": {},
   "outputs": [],
   "source": [
    "def isFirstBigger(num1,num2): \n",
    "    if num1 > num2: \n",
    "        return True \n",
    "    return False "
   ]
  },
  {
   "cell_type": "code",
   "execution_count": 21,
   "id": "7142d6c1",
   "metadata": {},
   "outputs": [
    {
     "data": {
      "text/plain": [
       "True"
      ]
     },
     "execution_count": 21,
     "metadata": {},
     "output_type": "execute_result"
    }
   ],
   "source": [
    "isFirstBigger(3,2)"
   ]
  },
  {
   "cell_type": "code",
   "execution_count": 28,
   "id": "d1ec2316",
   "metadata": {},
   "outputs": [
    {
     "data": {
      "text/plain": [
       "6"
      ]
     },
     "execution_count": 28,
     "metadata": {},
     "output_type": "execute_result"
    }
   ],
   "source": [
    "x = 8\n",
    "(x//3)*3"
   ]
  }
 ],
 "metadata": {
  "kernelspec": {
   "display_name": "Python 3 (ipykernel)",
   "language": "python",
   "name": "python3"
  },
  "language_info": {
   "codemirror_mode": {
    "name": "ipython",
    "version": 3
   },
   "file_extension": ".py",
   "mimetype": "text/x-python",
   "name": "python",
   "nbconvert_exporter": "python",
   "pygments_lexer": "ipython3",
   "version": "3.10.2"
  },
  "varInspector": {
   "cols": {
    "lenName": 16,
    "lenType": 16,
    "lenVar": 40
   },
   "kernels_config": {
    "python": {
     "delete_cmd_postfix": "",
     "delete_cmd_prefix": "del ",
     "library": "var_list.py",
     "varRefreshCmd": "print(var_dic_list())"
    },
    "r": {
     "delete_cmd_postfix": ") ",
     "delete_cmd_prefix": "rm(",
     "library": "var_list.r",
     "varRefreshCmd": "cat(var_dic_list()) "
    }
   },
   "types_to_exclude": [
    "module",
    "function",
    "builtin_function_or_method",
    "instance",
    "_Feature"
   ],
   "window_display": false
  }
 },
 "nbformat": 4,
 "nbformat_minor": 5
}
