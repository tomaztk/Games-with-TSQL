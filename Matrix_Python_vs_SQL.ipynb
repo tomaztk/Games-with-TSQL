{
 "cells": [
  {
   "cell_type": "markdown",
   "id": "d041af43-2d45-4081-8fa6-729f84a45a5f",
   "metadata": {},
   "source": [
    "## Matrix problems"
   ]
  },
  {
   "cell_type": "code",
   "execution_count": null,
   "id": "b173f0b0-5788-4feb-8c24-d53bd7323df7",
   "metadata": {},
   "outputs": [],
   "source": [
    "#in python\n",
    "a = [[]]\n",
    "a = {}\n",
    "\n",
    "\n",
    "CREATE TABLE ....\n"
   ]
  },
  {
   "cell_type": "code",
   "execution_count": null,
   "id": "25cfc49d-da4b-49d6-9d94-195f671e0298",
   "metadata": {},
   "outputs": [],
   "source": [
    "for i in range(0,3):\n",
    "    for j in range(0,3):\n",
    "        if grid[y0+i][x0+i] == n:\n",
    "            return False\n",
    "return True"
   ]
  },
  {
   "cell_type": "code",
   "execution_count": null,
   "id": "a2240631-163b-4a0f-b38f-cf4b052afaa9",
   "metadata": {},
   "outputs": [],
   "source": [
    "# in sql\n",
    "'''\n",
    "DECLARE @i INT = 0\n",
    "WHILE @i <= 8\n",
    "    BEGIN\n",
    "    DECLARE @j INT = 0\n",
    "    WHILE @j <= 8\n",
    "        BEGIN\n",
    "                DECLARE @v  TINYINT  = 0\n",
    "                EXEC dbo.get_grid\n",
    "                    @i\n",
    "                    ,@j\n",
    "                    ,@v OUT\n",
    "                \n",
    "                    --SELECT 'True', @i, @j, @v\n",
    "\t\t\n",
    "\t\t-- Add  checker for each square (3x3)\n",
    "\t\t -- START:\n",
    "\n",
    "\t\t \t\tDECLARE @x0 INT = 0\n",
    "\t\t\t\tDECLARE @y0 INT = 0\n",
    "\t\t\t\tSET @x0 = (@i/3)*3\n",
    "\t\t\t\tSET @y0 = (@j/3)*3\n",
    "\n",
    "\t\t\t\tDECLARE @k INT = 1\n",
    "\t\t\t\tWHILE @k <= 3\n",
    "\t\t\t\tBEGIN\n",
    "\t\t\t\t\tDECLARE @n INT = 1\n",
    "\t\t\t\t\tWHILE @n <= 3\n",
    "\t\t\t\t\tBEGIN\n",
    "\t\t\t \n",
    "\t\t\t\t\t\t\t-- DECLARE @a INT = @x0+@i\n",
    "\t\t\t\t\t\t\t-- DECLARE @b INT = @y0+@j\n",
    "\n",
    "\t\t\t\t\t\t\t DECLARE @w INT = 0\n",
    "\t\t\t\t\t\t\t EXEC dbo.get_grid \n",
    "\t\t\t\t\t\t\t\t\t-- @a\n",
    "\t\t\t\t\t\t\t\t\t--,@b\n",
    "\t\t\t\t\t\t\t\t\t @x0\n",
    "\t\t\t\t\t\t\t\t\t,@y0\n",
    "\t\t\t\t\t\t\t\t\t,@w OUT\n",
    "\n",
    "\t\t\t\t\t\tIF  @w = 5\n",
    "\t\t\t\t\t\t\tSELECT @w\n",
    "\t\t\t\t\t\n",
    "\t\t\t\t\t\t\t\t--SELECT @a, @b, @w\n",
    "\n",
    "\t\t\t\t\t\tSET @n = @n + 1\n",
    "\t\t\t\t\tEND\n",
    "\n",
    "\t\t\t\t\tSET @k = @k + 1\n",
    "\t\t\t\tEND\n",
    "\t\t -- END:\n",
    "\n",
    "        SET @j = @j + 1\n",
    "        END\n",
    "SET @i = @i + 1 \n",
    "END\n",
    "\n",
    "'''"
   ]
  }
 ],
 "metadata": {
  "kernelspec": {
   "display_name": "Python 3 (ipykernel)",
   "language": "python",
   "name": "python3"
  },
  "language_info": {
   "codemirror_mode": {
    "name": "ipython",
    "version": 3
   },
   "file_extension": ".py",
   "mimetype": "text/x-python",
   "name": "python",
   "nbconvert_exporter": "python",
   "pygments_lexer": "ipython3",
   "version": "3.9.7"
  }
 },
 "nbformat": 4,
 "nbformat_minor": 5
}
