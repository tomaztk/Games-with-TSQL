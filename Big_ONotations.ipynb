{
 "cells": [
  {
   "cell_type": "markdown",
   "id": "8806694b-1182-46de-8437-2cd77bed792a",
   "metadata": {},
   "source": [
    "# Big O Notations"
   ]
  },
  {
   "cell_type": "markdown",
   "id": "882b658d-bc2a-4050-83a3-85b7509c2c41",
   "metadata": {},
   "source": [
    "Big O notation is a way of writing down the time complexity of an algorithm.\n",
    "Time complexity refers to how fast an algorithm works compared to the input size n.\n",
    "Big O is one form of asymptotic notation. Another one is Big Theta."
   ]
  },
  {
   "cell_type": "code",
   "execution_count": 3,
   "id": "dbe2a57e-25b2-470f-9f18-4be7c86a8f30",
   "metadata": {},
   "outputs": [
    {
     "name": "stdout",
     "output_type": "stream",
     "text": [
      "O(1):  \n",
      " 9 \n",
      "\n"
     ]
    }
   ],
   "source": [
    "'''\n",
    "Examples:\n",
    "    Constant time: O(1)\n",
    "    Logarithmic time: O(log n)\n",
    "    Linear time: O(n)\n",
    "    Linearithmic time: O(n log n)\n",
    "    Polynomial time: O(n**2)\n",
    "    Exponential time: O(10**n)\n",
    "'''\n",
    "\n",
    "# O(1)\n",
    "num = 10\n",
    "\n",
    "def deductOne(num):\n",
    "    num -= 1\n",
    "    return num\n",
    "    \n",
    "print(\"O(1): \", \"\\n\", deductOne(num), \"\\n\")\n",
    "\n"
   ]
  },
  {
   "cell_type": "code",
   "execution_count": 4,
   "id": "885085f5-a628-4a44-9207-fef36ebb85c7",
   "metadata": {},
   "outputs": [
    {
     "name": "stdout",
     "output_type": "stream",
     "text": [
      "O(log n): \n",
      "5.0\n",
      "2.5\n",
      "1.25\n",
      "0.625\n",
      "\n"
     ]
    }
   ],
   "source": [
    "\n",
    "# O(log n)\n",
    "num = 10\n",
    "\n",
    "def divide(num):\n",
    "    while  num > 1:\n",
    "        num /= 2\n",
    "        print(num)\n",
    "    return num\n",
    "\n",
    "print(\"O(log n): \")\n",
    "divide(num)\n",
    "print()"
   ]
  },
  {
   "cell_type": "code",
   "execution_count": 5,
   "id": "02b529f2-528f-4546-b021-f0b1b4bc886b",
   "metadata": {},
   "outputs": [
    {
     "name": "stdout",
     "output_type": "stream",
     "text": [
      "O(n): \n",
      "[1]\n",
      "[1, 1]\n",
      "[1, 1, 1]\n",
      "[1, 1, 1, 1]\n",
      "[1, 1, 1, 1, 1]\n",
      "[1, 1, 1, 1, 1, 1]\n",
      "[1, 1, 1, 1, 1, 1, 1]\n",
      "[1, 1, 1, 1, 1, 1, 1, 1]\n",
      "[1, 1, 1, 1, 1, 1, 1, 1, 1]\n",
      "[1, 1, 1, 1, 1, 1, 1, 1, 1, 1]\n",
      "\n"
     ]
    }
   ],
   "source": [
    "\n",
    "# O(n)\n",
    "num = 10\n",
    "\n",
    "def addOnesToTestList(num):\n",
    "    testList = []\n",
    "    for i in range(0, num):\n",
    "        testList.append(1)\n",
    "        print(testList)\n",
    "    return testList\n",
    "\n",
    "print(\"O(n): \")\n",
    "addOnesToTestList(num)\n",
    "print()\n"
   ]
  },
  {
   "cell_type": "code",
   "execution_count": 6,
   "id": "dc3f9447-b382-4a2a-839e-da28346893a2",
   "metadata": {},
   "outputs": [
    {
     "name": "stdout",
     "output_type": "stream",
     "text": [
      "O(n log n): \n",
      "Left:  [1]\n",
      "Right:  [43]\n",
      "Result:  [1, 43]\n",
      "Left:  [21]\n",
      "Right:  [6]\n",
      "Result:  [6, 21]\n",
      "Left:  [31]\n",
      "Right:  [6, 21]\n",
      "Result:  [6, 21, 31]\n",
      "Left:  [1, 43]\n",
      "Right:  [6, 21, 31]\n",
      "Result:  [1, 6, 21, 31, 43]\n",
      "Left:  [96]\n",
      "Right:  [48]\n",
      "Result:  [48, 96]\n",
      "Left:  [25]\n",
      "Right:  [5]\n",
      "Result:  [5, 25]\n",
      "Left:  [13]\n",
      "Right:  [5, 25]\n",
      "Result:  [5, 13, 25]\n",
      "Left:  [48, 96]\n",
      "Right:  [5, 13, 25]\n",
      "Result:  [5, 13, 25, 48, 96]\n",
      "Left:  [1, 6, 21, 31, 43]\n",
      "Right:  [5, 13, 25, 48, 96]\n",
      "Result:  [1, 5, 6, 13, 21, 25, 31, 43, 48, 96]\n",
      "\n"
     ]
    }
   ],
   "source": [
    "\n",
    "# O(n log n)\n",
    "testList = [1, 43, 31, 21, 6, 96, 48, 13, 25, 5]\n",
    "\n",
    "def mergeSort(testList):\n",
    "    if len(testList) < 2:\n",
    "        return testList\n",
    "    middle = int(len(testList) / 2)\n",
    "    left = mergeSort(testList[:middle])\n",
    "    right = mergeSort(testList[middle:])\n",
    "    result = []\n",
    "    print(\"Left: \", left)\n",
    "    print(\"Right: \", right)\n",
    "    while len(left) > 0 and len(right) > 0:\n",
    "        if left[0] <= right[0]:\n",
    "            result.append(left[0])\n",
    "            left.pop(0)\n",
    "        else:\n",
    "            result.append(right[0])\n",
    "            right.pop(0)\n",
    "    result += left\n",
    "    result += right\n",
    "    print(\"Result: \", result)\n",
    "    return result\n",
    "\n",
    "print(\"O(n log n): \")\n",
    "mergeSort(testList)\n",
    "print()\n"
   ]
  },
  {
   "cell_type": "code",
   "execution_count": 7,
   "id": "8c6546a3-5a4d-4d5d-9ef2-4cb4bab3f00d",
   "metadata": {},
   "outputs": [
    {
     "name": "stdout",
     "output_type": "stream",
     "text": [
      "O(n**2): \n",
      "[1, 43, 31, 21, 6, 96, 48, 13, 25, 5]\n",
      "[1, 43, 31, 21, 6, 96, 48, 13, 25, 5]\n",
      "[1, 43, 31, 21, 6, 96, 48, 13, 25, 5]\n",
      "[1, 43, 31, 21, 6, 96, 48, 13, 25, 5]\n",
      "[1, 43, 31, 21, 6, 96, 48, 13, 25, 5]\n",
      "[1, 43, 31, 21, 6, 96, 48, 13, 25, 5]\n",
      "[1, 43, 31, 21, 6, 96, 48, 13, 25, 5]\n",
      "[1, 43, 31, 21, 6, 96, 48, 13, 25, 5]\n",
      "[1, 43, 31, 21, 6, 96, 48, 13, 25, 5]\n",
      "[1, 31, 43, 21, 6, 96, 48, 13, 25, 5]\n",
      "[1, 21, 43, 31, 6, 96, 48, 13, 25, 5]\n",
      "[1, 6, 43, 31, 21, 96, 48, 13, 25, 5]\n",
      "[1, 6, 43, 31, 21, 96, 48, 13, 25, 5]\n",
      "[1, 6, 43, 31, 21, 96, 48, 13, 25, 5]\n",
      "[1, 6, 43, 31, 21, 96, 48, 13, 25, 5]\n",
      "[1, 6, 43, 31, 21, 96, 48, 13, 25, 5]\n",
      "[1, 5, 43, 31, 21, 96, 48, 13, 25, 6]\n",
      "[1, 5, 31, 43, 21, 96, 48, 13, 25, 6]\n",
      "[1, 5, 21, 43, 31, 96, 48, 13, 25, 6]\n",
      "[1, 5, 21, 43, 31, 96, 48, 13, 25, 6]\n",
      "[1, 5, 21, 43, 31, 96, 48, 13, 25, 6]\n",
      "[1, 5, 13, 43, 31, 96, 48, 21, 25, 6]\n",
      "[1, 5, 13, 43, 31, 96, 48, 21, 25, 6]\n",
      "[1, 5, 6, 43, 31, 96, 48, 21, 25, 13]\n",
      "[1, 5, 6, 31, 43, 96, 48, 21, 25, 13]\n",
      "[1, 5, 6, 31, 43, 96, 48, 21, 25, 13]\n",
      "[1, 5, 6, 31, 43, 96, 48, 21, 25, 13]\n",
      "[1, 5, 6, 21, 43, 96, 48, 31, 25, 13]\n",
      "[1, 5, 6, 21, 43, 96, 48, 31, 25, 13]\n",
      "[1, 5, 6, 13, 43, 96, 48, 31, 25, 21]\n",
      "[1, 5, 6, 13, 43, 96, 48, 31, 25, 21]\n",
      "[1, 5, 6, 13, 43, 96, 48, 31, 25, 21]\n",
      "[1, 5, 6, 13, 31, 96, 48, 43, 25, 21]\n",
      "[1, 5, 6, 13, 25, 96, 48, 43, 31, 21]\n",
      "[1, 5, 6, 13, 21, 96, 48, 43, 31, 25]\n",
      "[1, 5, 6, 13, 21, 48, 96, 43, 31, 25]\n",
      "[1, 5, 6, 13, 21, 43, 96, 48, 31, 25]\n",
      "[1, 5, 6, 13, 21, 31, 96, 48, 43, 25]\n",
      "[1, 5, 6, 13, 21, 25, 96, 48, 43, 31]\n",
      "[1, 5, 6, 13, 21, 25, 48, 96, 43, 31]\n",
      "[1, 5, 6, 13, 21, 25, 43, 96, 48, 31]\n",
      "[1, 5, 6, 13, 21, 25, 31, 96, 48, 43]\n",
      "[1, 5, 6, 13, 21, 25, 31, 48, 96, 43]\n",
      "[1, 5, 6, 13, 21, 25, 31, 43, 96, 48]\n",
      "[1, 5, 6, 13, 21, 25, 31, 43, 48, 96]\n"
     ]
    }
   ],
   "source": [
    "\n",
    "# O(n**2)\n",
    "testList = [1, 43, 31, 21, 6, 96, 48, 13, 25, 5]\n",
    "\n",
    "def bubbleSort(testList):\n",
    "    for i in range(len(testList)):\n",
    "        for j in range(i+1, len(testList)):\n",
    "            if testList[j] < testList[i]:\n",
    "                testList[j], testList[i] = testList[i], testList[j]\n",
    "            print(testList)\n",
    "\n",
    "print(\"O(n**2): \")\n",
    "bubbleSort(testList)\n",
    "\n"
   ]
  },
  {
   "cell_type": "code",
   "execution_count": null,
   "id": "c5c76df8-7626-4a31-9750-608eaab7d597",
   "metadata": {},
   "outputs": [],
   "source": []
  }
 ],
 "metadata": {
  "kernelspec": {
   "display_name": "Python 3 (ipykernel)",
   "language": "python",
   "name": "python3"
  },
  "language_info": {
   "codemirror_mode": {
    "name": "ipython",
    "version": 3
   },
   "file_extension": ".py",
   "mimetype": "text/x-python",
   "name": "python",
   "nbconvert_exporter": "python",
   "pygments_lexer": "ipython3",
   "version": "3.9.7"
  }
 },
 "nbformat": 4,
 "nbformat_minor": 5
}
